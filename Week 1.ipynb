{
 "metadata": {
  "name": "",
  "signature": "sha256:971e91f554420151f7359ed4930fabe59c2edff8be3fa0191bd2f949e1769560"
 },
 "nbformat": 3,
 "nbformat_minor": 0,
 "worksheets": [
  {
   "cells": [
    {
     "cell_type": "markdown",
     "metadata": {},
     "source": [
      "# Coursera - Mining Massive Datasets\n",
      "## Week 1 - Exercices"
     ]
    },
    {
     "cell_type": "markdown",
     "metadata": {},
     "source": [
      "### Exercice 1\n",
      "\n",
      "Consider three Web pages with the following links:\n",
      "\n",
      "![Exercice 1](images/week1-ex1.gif)\n",
      "\n",
      "Suppose we compute PageRank with a \u03b2 of 0.7, and we introduce the additional constraint that the sum of the PageRanks of the three pages must be 3, to handle the problem that otherwise any multiple of a solution will also be a solution. Compute the PageRanks a, b, and c of the three pages A, B, and C, respectively. Then, identify from the list below, the true statement.\n",
      "\n",
      " - a + c = 2.595\n",
      " - b + c = 2.5\n",
      " - b + c = 2.735\n",
      " - a + c = 2.035"
     ]
    },
    {
     "cell_type": "code",
     "collapsed": true,
     "input": [
      "import math\n",
      "import numpy as NP\n",
      "\n",
      "# \u03b2 is probability of following the link\n",
      "\u03b2 = 0.7\n",
      "\n",
      "# M is the matrix of vectors based on the schma of exercice\n",
      "M = NP.matrix([[0, 0, 0], [1/2, 0, 0], [1/2, 1, 1]])\n",
      "\n",
      "# r is the list of node we are applying the M on every iteration\n",
      "r = NP.matrix([1/3, 1/3, 1/3]).T\n",
      "\n",
      "# S represent the change that the user doesn't follow the link but jump to a random link\n",
      "S = NP.matrix([(1 - \u03b2)/3, (1 - \u03b2)/3, (1 - \u03b2)/3]).T\n",
      "\n",
      "# \ud835\udec6 is the choosen Pagerank precision\n",
      "\ud835\udec6 = 1 / 10000\n",
      "\n",
      "def power_iteration(r):\n",
      "    r_copy = r\n",
      "    # Calculate new values for r\n",
      "    r = \u03b2 * M * r\n",
      "    # Add the leaking rank due to the probably that user may not follow the link\n",
      "    r = r + S\n",
      "    \n",
      "    # Pagerank is processed when no value changed more than \ud835\udec6 on this iteration\n",
      "    matrix_difference = r_copy - r\n",
      "    is_processed = math.fabs(matrix_difference.max()) < \ud835\udec6\n",
      "    return (r, is_processed)\n",
      "\n",
      "# Execute power interation until the Pagerank is processed\n",
      "while True:\n",
      "    r, is_processed = power_iteration(r)\n",
      "    if is_processed:\n",
      "        print(\"Pagerank processed!\")\n",
      "        break\n",
      "\n",
      "# Multiply the Pagerank by 3 because \"the sum of the PageRanks of the three pages must be 3\"        \n",
      "r = 3 * r\n",
      "\n",
      "# Print result to solve exercice\n",
      "a = r.flat[0]\n",
      "b = r.flat[1]\n",
      "c = r.flat[2]\n",
      "print(\"a + c = {0}\".format(round(a + c, 3)))\n",
      "print(\"b + c = {0}\".format(round(b + c, 3)))"
     ],
     "language": "python",
     "metadata": {},
     "outputs": [
      {
       "output_type": "stream",
       "stream": "stdout",
       "text": [
        "Pagerank processed!\n",
        "a + c = 2.595\n",
        "b + c = 2.7\n"
       ]
      }
     ],
     "prompt_number": 69
    },
    {
     "cell_type": "markdown",
     "metadata": {},
     "source": [
      "### Exercice 2\n",
      "\n",
      "Consider three Web pages with the following links:\n",
      "\n",
      "![Exercice 1](images/week1-ex2.gif)\n",
      "\n",
      "Suppose we compute PageRank with \u03b2=0.85. Write the equations for the PageRanks a, b, and c of the three pages A, B, and C, respectively. Then, identify in the list below, one of the equations.\n",
      "\n",
      " - a = c + .15b\n",
      " - .85a = c + .15b\n",
      " - 85b = .575a + .15c\n",
      " - .95b = .475a + .05c"
     ]
    },
    {
     "cell_type": "code",
     "collapsed": false,
     "input": [
      "import math\n",
      "import numpy as NP\n",
      "\n",
      "# \u03b2 is probability of following the link\n",
      "\u03b2 = 0.85\n",
      "\n",
      "# M is the matrix of vectors based on the schma of exercice\n",
      "M = NP.matrix([[0, 0, 1], [1/2, 0, 0], [1/2, 1, 0]])\n",
      "\n",
      "# r is the list of node we are applying the M on every iteration\n",
      "r = NP.matrix([1/3, 1/3, 1/3]).T\n",
      "\n",
      "# S represent the change that the user doesn't follow the link but jump to a random link\n",
      "S = NP.matrix([(1 - \u03b2)/3, (1 - \u03b2)/3, (1 - \u03b2)/3]).T\n",
      "\n",
      "# \ud835\udec6 is the choosen Pagerank precision\n",
      "\ud835\udec6 = 1 / 10000\n",
      "\n",
      "def power_iteration(r):\n",
      "    r_copy = r\n",
      "    # Calculate new values for r\n",
      "    r = \u03b2 * M * r\n",
      "    # Add the leaking rank due to the probably that user may not follow the link\n",
      "    r = r + S\n",
      "    \n",
      "    # Pagerank is processed when no value changed more than \ud835\udec6 on this iteration\n",
      "    matrix_difference = r_copy - r\n",
      "    is_processed = math.fabs(matrix_difference.max()) < \ud835\udec6\n",
      "    return (r, is_processed)\n",
      "\n",
      "# Execute power interation until the Pagerank is processed\n",
      "while True:\n",
      "    r, is_processed = power_iteration(r)\n",
      "    if is_processed:\n",
      "        print(\"Pagerank processed!\")\n",
      "        break\n",
      "\n",
      "a = r.flat[0]\n",
      "b = r.flat[1]\n",
      "c = r.flat[2]\n",
      "# Print result to solve exercice\n",
      "print(\"a = c + .15b: {0}\".format(round(a, 3) ==  round(c + 0.15 * b, 3)))\n",
      "print(\".85a = c + .15b: {0}\".format(round(0.85 * a, 3) == round(0.575 * a + 0.15 * c,3)))\n",
      "print(\"85b = .575a + .15c: {0}\".format(round(85 * b, 3) == round(0.575 * a + 0.15 * c, 3)))\n",
      "print(\".95b = .475a + .05c: {0}\".format(round(0.95 * b, 3) == round(0.475 * a + 0.05 * c, 3)))\n"
     ],
     "language": "python",
     "metadata": {},
     "outputs": [
      {
       "output_type": "stream",
       "stream": "stdout",
       "text": [
        "Pagerank processed!\n",
        "a = c + .15b: False\n",
        ".85a = c + .15b: False\n",
        "85b = .575a + .15c: False\n",
        ".95b = .475a + .05c: True\n"
       ]
      }
     ],
     "prompt_number": 70
    },
    {
     "cell_type": "markdown",
     "metadata": {},
     "source": [
      "### Exercice 3\n",
      "\n",
      "Consider three Web pages with the following links:\n",
      "\n",
      "![Exercice 1](images/week1-ex2.gif)\n",
      "\n",
      "Assuming no \"taxation,\" compute the PageRanks a, b, and c of the three pages A, B, and C, using iteration, starting with the \"0th\" iteration where all three pages have rank a = b = c = 1. Compute as far as the 5th iteration, and also determine what the PageRanks are in the limit. Then, identify the true statement from the list below.\n",
      "\n",
      " - In the limit, a = 5/4\n",
      " - After iteration 5, a = 13/8\n",
      " - In the limit, b = 3/5\n",
      " - After iteration 5, b = 1/2"
     ]
    },
    {
     "cell_type": "code",
     "collapsed": false,
     "input": [
      "import math\n",
      "import numpy as NP\n",
      "\n",
      "# M is the matrix of vectors based on the schma of exercice\n",
      "M = NP.matrix([[0, 0, 1], [1/2, 0, 0], [1/2, 1, 0]])\n",
      "\n",
      "# r is the list of node we are applying the M on every iteration\n",
      "r = NP.matrix([1, 1, 1]).T\n",
      "\n",
      "# \ud835\udec6 is the choosen Pagerank precision\n",
      "\ud835\udec6 = 1 / 10000\n",
      "\n",
      "def power_iteration(r):\n",
      "    r_copy = r\n",
      "    # Calculate new values for r\n",
      "    r = M * r\n",
      "    \n",
      "    matrix_difference = r_copy - r\n",
      "    is_processed = math.fabs(matrix_difference.max()) < \ud835\udec6\n",
      "    return (r, is_processed)\n",
      "\n",
      "iteration = 1\n",
      "# Execute power interation until the Pagerank is processed\n",
      "while True:\n",
      "    r, is_processed = power_iteration(r)\n",
      "    if iteration == 5:\n",
      "        a_5 = round(r.flat[0], 3)\n",
      "        b_5 = round(r.flat[1], 3)\n",
      "        c_5 = round(r.flat[2], 3)\n",
      "    if is_processed:\n",
      "        a = round(r.flat[0], 3)\n",
      "        b = round(r.flat[1], 3)\n",
      "        c = round(r.flat[2], 3)\n",
      "        break\n",
      "    iteration = iteration + 1\n",
      "\n",
      "print(\"Pagerank at 5th iteration: a={0}, b={1}, c={2}\".format(a_5, b_5, c_5))\n",
      "print(\"Pagerank at limit: a={0}, b={1}, c={2} \\n\".format(a, b, c))\n",
      "\n",
      "print(\"In the limit, a = 5/4: {0}\".format(a == 5/4))\n",
      "print(\"After iteration 5, a = 13/8: {0}\".format(a_5 == 13/8))\n",
      "print(\"In the limit, b = 3/5: {0}\".format(b == 3/5))\n",
      "print(\"After iteration 5, b = 1/2: {0}\".format(b_5 == 1/2))"
     ],
     "language": "python",
     "metadata": {},
     "outputs": [
      {
       "output_type": "stream",
       "stream": "stdout",
       "text": [
        "Pagerank at 5th iteration: a=1.25, b=0.625, c=1.125\n",
        "Pagerank at limit: a=1.2, b=0.6, c=1.2 \n",
        "\n",
        "In the limit, a = 5/4: False\n",
        "After iteration 5, a = 13/8: False\n",
        "In the limit, b = 3/5: True\n",
        "After iteration 5, b = 1/2: False\n"
       ]
      }
     ],
     "prompt_number": 91
    }
   ],
   "metadata": {}
  }
 ]
}