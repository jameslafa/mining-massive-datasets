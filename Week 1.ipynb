{
 "metadata": {
  "name": "",
  "signature": "sha256:07d2485446a689601c5507d256016d178c70bd7bab754e4b9035723171c94a09"
 },
 "nbformat": 3,
 "nbformat_minor": 0,
 "worksheets": [
  {
   "cells": [
    {
     "cell_type": "markdown",
     "metadata": {},
     "source": [
      "# Coursera - Mining Massive Datasets\n",
      "## Week 1 - Exercices"
     ]
    },
    {
     "cell_type": "markdown",
     "metadata": {},
     "source": [
      "### Exercice 1\n",
      "\n",
      "Consider three Web pages with the following links:\n",
      "\n",
      "![Exercice 1](images/week1-ex1.gif)\n",
      "\n",
      "Suppose we compute PageRank with a \u03b2 of 0.7, and we introduce the additional constraint that the sum of the PageRanks of the three pages must be 3, to handle the problem that otherwise any multiple of a solution will also be a solution. Compute the PageRanks a, b, and c of the three pages A, B, and C, respectively. Then, identify from the list below, the true statement.\n",
      "\n",
      " - a + c = 2.595\n",
      " - b + c = 2.5\n",
      " - b + c = 2.735\n",
      " - a + c = 2.035"
     ]
    },
    {
     "cell_type": "code",
     "collapsed": true,
     "input": [
      "import math\n",
      "import numpy as NP\n",
      "\n",
      "# \u03b2 is probability of following the link\n",
      "\u03b2 = 0.7\n",
      "\n",
      "# M is the matrix of vectors based on the schma of exercice\n",
      "M = NP.matrix([[0, 0, 0], [1/2, 0, 0], [1/2, 1, 1]])\n",
      "\n",
      "# r is the list of node we are applying the M on every iteration\n",
      "r = NP.matrix([1/3, 1/3, 1/3]).T\n",
      "\n",
      "# S represent the change that the user doesn't follow the link but jump to a random link\n",
      "S = NP.matrix([(1 - \u03b2)/3, (1 - \u03b2)/3, (1 - \u03b2)/3]).T\n",
      "\n",
      "# \ud835\udec6 is the choosen Pagerank precision\n",
      "\ud835\udec6 = 1 / 10000\n",
      "\n",
      "def power_iteration(r):\n",
      "    r_copy = r\n",
      "    # Calculate new values for r\n",
      "    r = \u03b2 * M * r\n",
      "    # Add the leaking rank due to the probably that user may not follow the link\n",
      "    r = r + S\n",
      "    \n",
      "    # Pagerank is processed when no value changed more than \ud835\udec6 on this iteration\n",
      "    matrix_difference = r_copy - r\n",
      "    is_processed = math.fabs(matrix_difference.max()) < \ud835\udec6\n",
      "    return (r, is_processed)\n",
      "\n",
      "# Execute power interation until the Pagerank is processed\n",
      "while True:\n",
      "    r, is_processed = power_iteration(r)\n",
      "    if is_processed:\n",
      "        print(\"Pagerank processed!\")\n",
      "        break\n",
      "\n",
      "# Multiply the Pagerank by 3 because \"the sum of the PageRanks of the three pages must be 3\"        \n",
      "r = 3 * r\n",
      "\n",
      "# Print result to solve exercice\n",
      "a = r.flat[0]\n",
      "b = r.flat[1]\n",
      "c = r.flat[2]\n",
      "print(\"a + c = {0}\".format(round(a + c, 3)))\n",
      "print(\"b + c = {0}\".format(round(b + c, 3)))"
     ],
     "language": "python",
     "metadata": {},
     "outputs": [
      {
       "output_type": "stream",
       "stream": "stdout",
       "text": [
        "Pagerank processed!\n",
        "a + c = 2.595\n",
        "b + c = 2.7\n"
       ]
      }
     ],
     "prompt_number": 60
    },
    {
     "cell_type": "markdown",
     "metadata": {},
     "source": [
      "### Exercice 2\n",
      "\n",
      "Consider three Web pages with the following links:\n",
      "\n",
      "![Exercice 1](images/week1-ex2.gif)\n",
      "\n",
      "Suppose we compute PageRank with \u03b2=0.85. Write the equations for the PageRanks a, b, and c of the three pages A, B, and C, respectively. Then, identify in the list below, one of the equations.\n",
      "\n",
      " - a = c + .15b\n",
      " - .85a = c + .15b\n",
      " - 85b = .575a + .15c\n",
      " - .95b = .475a + .05c"
     ]
    },
    {
     "cell_type": "code",
     "collapsed": false,
     "input": [
      "import math\n",
      "import numpy as NP\n",
      "\n",
      "# \u03b2 is probability of following the link\n",
      "\u03b2 = 0.85\n",
      "\n",
      "# M is the matrix of vectors based on the schma of exercice\n",
      "M = NP.matrix([[0, 0, 1], [1/2, 0, 0], [1/2, 1, 0]])\n",
      "\n",
      "# r is the list of node we are applying the M on every iteration\n",
      "r = NP.matrix([1/3, 1/3, 1/3]).T\n",
      "\n",
      "# S represent the change that the user doesn't follow the link but jump to a random link\n",
      "S = NP.matrix([(1 - \u03b2)/3, (1 - \u03b2)/3, (1 - \u03b2)/3]).T\n",
      "\n",
      "# \ud835\udec6 is the choosen Pagerank precision\n",
      "\ud835\udec6 = 1 / 10000\n",
      "\n",
      "def power_iteration(r):\n",
      "    r_copy = r\n",
      "    # Calculate new values for r\n",
      "    r = \u03b2 * M * r\n",
      "    # Add the leaking rank due to the probably that user may not follow the link\n",
      "    r = r + S\n",
      "    \n",
      "    # Pagerank is processed when no value changed more than \ud835\udec6 on this iteration\n",
      "    matrix_difference = r_copy - r\n",
      "    is_processed = math.fabs(matrix_difference.max()) < \ud835\udec6\n",
      "    return (r, is_processed)\n",
      "\n",
      "# Execute power interation until the Pagerank is processed\n",
      "while True:\n",
      "    r, is_processed = power_iteration(r)\n",
      "    if is_processed:\n",
      "        print(\"Pagerank processed!\")\n",
      "        break\n",
      "\n",
      "a = r.flat[0]\n",
      "b = r.flat[1]\n",
      "c = r.flat[2]\n",
      "# Print result to solve exercice\n",
      "print(\"a = c + .15b: {0}\".format(round(a, 3) ==  round(c + 0.15 * b, 3)))\n",
      "print(\".85a = c + .15b: {0}\".format(round(0.85 * a, 3), round(0.575 * a + 0.15 * c,3)))\n",
      "print(\"85b = .575a + .15c: {0}\".format(round(85 * b, 3), round(0.575 * a + 0.15 * c))\n",
      "print(\".95b = .475a + .05c: {0}\".format(0.95 * b, 0.475 * a + 0.05 * c))\n"
     ],
     "language": "python",
     "metadata": {},
     "outputs": [
      {
       "output_type": "stream",
       "stream": "stdout",
       "text": [
        "Pagerank processed!\n",
        "a = c + .15b: [[ 0.38777392]], [[ 0.42960783]]\n",
        ".85a = c + .15b: [[ 0.32960783]], [[ 0.28257716]]\n",
        "85b = .575a + .15c: [[ 18.26182536]], [[ 0.28257716]]\n",
        ".95b = .475a + .05c: [[ 0.20410275]], [[ 0.20406166]]\n"
       ]
      }
     ],
     "prompt_number": 63
    },
    {
     "cell_type": "code",
     "collapsed": false,
     "input": [],
     "language": "python",
     "metadata": {},
     "outputs": []
    }
   ],
   "metadata": {}
  }
 ]
}