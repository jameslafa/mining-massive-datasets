{
 "metadata": {
  "name": "",
  "signature": "sha256:9820b2af4fd72e855ee4f9bd7da511959b4691b9a489b3f87f46850733548453"
 },
 "nbformat": 3,
 "nbformat_minor": 0,
 "worksheets": [
  {
   "cells": [
    {
     "cell_type": "markdown",
     "metadata": {},
     "source": [
      "# Coursera - Mining Massive Datasets\n",
      "## Week 2 - Exercices"
     ]
    },
    {
     "cell_type": "markdown",
     "metadata": {},
     "source": [
      "### Exercice 1\n",
      "\n",
      "The edit distance is the minimum number of character insertions and character deletions required to turn one string into another. Compute the edit distance between each pair of the strings **he, she, his, and hers**. Then, identify which of the following is a true statement about the number of pairs at a certain edit distance.\n",
      "\n",
      " - There are 4 pairs at distance 2.\n",
      " - There is 1 pair at distance 1.\n",
      " - There are 3 pairs at distance 4.\n",
      " - There are 2 pairs at distance 3."
     ]
    },
    {
     "cell_type": "code",
     "collapsed": false,
     "input": [
      "from collections import OrderedDict\n",
      "\n",
      "words = ['he', 'she', 'his', 'hers']\n",
      "pairs = OrderedDict()\n",
      "\n",
      "def lcs(xstr, ystr):\n",
      "    if not xstr or not ystr:\n",
      "        return \"\"\n",
      "    x, xs, y, ys = xstr[0], xstr[1:], ystr[0], ystr[1:]\n",
      "    if x == y:\n",
      "        return x + lcs(xs, ys)\n",
      "    else:\n",
      "        return max(lcs(xstr, ys), lcs(xs, ystr), key=len)\n",
      "    \n",
      "def edit_distance(a, b):\n",
      "    return len(a) + len(b) - 2 * len(lcs(a, b))\n",
      "    \n",
      "for index_a, a in enumerate(words):\n",
      "    for index_b, b in enumerate(words[index_a+1:]):\n",
      "        print(\"{a}-{b}: {d}\".format(a=a, b=b, d=edit_distance(a, b)))\n",
      "\n",
      "    "
     ],
     "language": "python",
     "metadata": {},
     "outputs": [
      {
       "output_type": "stream",
       "stream": "stdout",
       "text": [
        "he-she: 1\n",
        "he-his: 3\n",
        "he-hers: 2\n",
        "she-his: 4\n",
        "she-hers: 3\n",
        "his-hers: 3\n"
       ]
      }
     ],
     "prompt_number": 15
    },
    {
     "cell_type": "code",
     "collapsed": false,
     "input": [],
     "language": "python",
     "metadata": {},
     "outputs": []
    }
   ],
   "metadata": {}
  }
 ]
}