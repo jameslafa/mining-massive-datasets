{
 "metadata": {
  "name": "",
  "signature": "sha256:a360c17a84c3574da7cafb5008db0deb7cbdc8e9acfa08e2c4787b0606272226"
 },
 "nbformat": 3,
 "nbformat_minor": 0,
 "worksheets": [
  {
   "cells": [
    {
     "cell_type": "markdown",
     "metadata": {},
     "source": [
      "# Coursera - Mining Massive Datasets\n",
      "## Week 2 - Frequent Itemsets - Exercices"
     ]
    },
    {
     "cell_type": "markdown",
     "metadata": {},
     "source": [
      "### Exercice 1\n",
      "\n",
      "Suppose we have transactions that satisfy the following assumptions: \n",
      "\n",
      " - s, the support threshold, is 10,000.\n",
      " - There are one million items, which are represented by the integers 0,1,...,999999.\n",
      " - There are N frequent items, that is, items that occur 10,000 times or more.\n",
      " - There are one million pairs that occur 10,000 times or more.\n",
      " - There are 2M pairs that occur exactly once. M of these pairs consist of two frequent items, the other M each have at least one nonfrequent item.\n",
      " - No other pairs occur at all.\n",
      " - Integers are always represented by 4 bytes.\n",
      "\n",
      "Suppose we run the a-priori algorithm to find frequent pairs and can choose on the second pass between the triangular-matrix method for counting candidate pairs (a triangular array count[i][j] that holds an integer count for each pair of items (i, j) where i < j) and a hash table of item-item-count triples. Neglect in the first case the space needed to translate between original item numbers and numbers for the frequent items, and in the second case neglect the space needed for the hash table. Assume that item numbers and counts are always 4-byte integers. \n",
      "\n",
      "As a function of N and M, what is the minimum number of bytes of main memory needed to execute the a-priori algorithm on this data? Demonstrate that you have the correct formula by selecting, from the choices below, the triple consisting of values for N, M, and the (approximate, i.e., to within 10%) minumum number of bytes of main memory, S, needed for the a-priori algorithm to execute with this data.\n",
      "\n",
      " - N = 50,000; M = 80,000,000; S = 1,500,000,000\n",
      " - N = 100,000; M = 40,000,000; S = 800,000,000\n",
      " - N = 30,000; M = 100,000,000; S = 500,000,000\n",
      " - N = 100,000; M = 100,000,000; S = 1,200,000,000"
     ]
    },
    {
     "cell_type": "code",
     "collapsed": false,
     "input": [
      "from math import pow\n",
      "\n",
      "def triangular_matrix_space_calculator(N):\n",
      "    # First pass: every possible items once (10000000)\n",
      "    # Second pass: every possible frequent pairs (N square divided by 2)\n",
      "    return (10000000 + pow(N, 2) / 2) * 4\n",
      "\n",
      "def triple_method_space_calculator(M):\n",
      "    # First pass: every possible items once (10000000)\n",
      "    # Second pass: 3 times the number of pairs (M because we count only pairs containing a frequent item)\n",
      "    return (10000000 + (3 * M)) * 4\n",
      "\n",
      "sets_to_test = [\n",
      "    {\"N\": 50000, \"M\": 80000000, \"S\": 1500000000 },\n",
      "    {\"N\": 100000, \"M\": 40000000, \"S\": 800000000 },\n",
      "    {\"N\": 30000, \"M\": 100000000, \"S\": 500000000 },\n",
      "    {\"N\": 100000, \"M\": 100000000, \"S\": 1200000000 }\n",
      "]\n",
      "\n",
      "for index, set_to_test in enumerate(sets_to_test):\n",
      "    triangular = triangular_matrix_space_calculator(set_to_test[\"N\"])\n",
      "    triple = triple_method_space_calculator(set_to_test[\"M\"])\n",
      "    \n",
      "    # We keep only the best method in terms of memory\n",
      "    best = min(triangular, triple)\n",
      "    \n",
      "    # We accept 10% margin\n",
      "    if set_to_test[\"S\"] * 0.9 <= best <= set_to_test[\"S\"] * 1.1:\n",
      "        print(\"{0}: N={1}; M={2}; S={3}\".format(index + 1, set_to_test[\"N\"], set_to_test[\"M\"], set_to_test[\"S\"]))\n",
      "\n",
      "    "
     ],
     "language": "python",
     "metadata": {},
     "outputs": [
      {
       "output_type": "stream",
       "stream": "stdout",
       "text": [
        "4: N=100000; M=100000000; S=1200000000\n"
       ]
      }
     ],
     "prompt_number": 22
    },
    {
     "cell_type": "markdown",
     "metadata": {},
     "source": [
      "### Exercice 2\n",
      "\n",
      "Imagine there are 100 baskets, numbered 1,2,...,100, and 100 items, similarly numbered. Item i is in basket j if and only if i divides j evenly. For example, basket 24 is the set of items {1,2,3,4,6,8,12,24}. Describe all the association rules that have 100% confidence. Which of the following rules has 100% confidence?\n",
      "\n",
      " - {1,3,6} \u2192 12\n",
      " - {8,10} \u2192 20\n",
      " - {1} \u2192 2\n",
      " - {1,2} \u2192 4"
     ]
    },
    {
     "cell_type": "code",
     "collapsed": false,
     "input": [
      "baskets = []\n",
      "for i in range(1, 101):\n",
      "    items = []\n",
      "    for j in range(1, i + 1):\n",
      "        if i % j == 0:\n",
      "            items.append(j)\n",
      "    if len(items) > 0:\n",
      "        baskets.append(items)\n",
      "\n",
      "for index, items in enumerate(baskets):\n",
      "    print(\"{0}: {1}\".format(index + 1, items))\n",
      "    \n",
      "# I can't find the algorithm to calculate every associated rules with a confidence of 100%.\n",
      "# I display every basket and check every 4 possible values to find the answer to the exercice.\n",
      "# However, I'm still looking for the mathematical answer to this problem.\n",
      "    "
     ],
     "language": "python",
     "metadata": {},
     "outputs": [
      {
       "output_type": "stream",
       "stream": "stdout",
       "text": [
        "1: [1]\n",
        "2: [1, 2]\n",
        "3: [1, 3]\n",
        "4: [1, 2, 4]\n",
        "5: [1, 5]\n",
        "6: [1, 2, 3, 6]\n",
        "7: [1, 7]\n",
        "8: [1, 2, 4, 8]\n",
        "9: [1, 3, 9]\n",
        "10: [1, 2, 5, 10]\n",
        "11: [1, 11]\n",
        "12: [1, 2, 3, 4, 6, 12]\n",
        "13: [1, 13]\n",
        "14: [1, 2, 7, 14]\n",
        "15: [1, 3, 5, 15]\n",
        "16: [1, 2, 4, 8, 16]\n",
        "17: [1, 17]\n",
        "18: [1, 2, 3, 6, 9, 18]\n",
        "19: [1, 19]\n",
        "20: [1, 2, 4, 5, 10, 20]\n",
        "21: [1, 3, 7, 21]\n",
        "22: [1, 2, 11, 22]\n",
        "23: [1, 23]\n",
        "24: [1, 2, 3, 4, 6, 8, 12, 24]\n",
        "25: [1, 5, 25]\n",
        "26: [1, 2, 13, 26]\n",
        "27: [1, 3, 9, 27]\n",
        "28: [1, 2, 4, 7, 14, 28]\n",
        "29: [1, 29]\n",
        "30: [1, 2, 3, 5, 6, 10, 15, 30]\n",
        "31: [1, 31]\n",
        "32: [1, 2, 4, 8, 16, 32]\n",
        "33: [1, 3, 11, 33]\n",
        "34: [1, 2, 17, 34]\n",
        "35: [1, 5, 7, 35]\n",
        "36: [1, 2, 3, 4, 6, 9, 12, 18, 36]\n",
        "37: [1, 37]\n",
        "38: [1, 2, 19, 38]\n",
        "39: [1, 3, 13, 39]\n",
        "40: [1, 2, 4, 5, 8, 10, 20, 40]\n",
        "41: [1, 41]\n",
        "42: [1, 2, 3, 6, 7, 14, 21, 42]\n",
        "43: [1, 43]\n",
        "44: [1, 2, 4, 11, 22, 44]\n",
        "45: [1, 3, 5, 9, 15, 45]\n",
        "46: [1, 2, 23, 46]\n",
        "47: [1, 47]\n",
        "48: [1, 2, 3, 4, 6, 8, 12, 16, 24, 48]\n",
        "49: [1, 7, 49]\n",
        "50: [1, 2, 5, 10, 25, 50]\n",
        "51: [1, 3, 17, 51]\n",
        "52: [1, 2, 4, 13, 26, 52]\n",
        "53: [1, 53]\n",
        "54: [1, 2, 3, 6, 9, 18, 27, 54]\n",
        "55: [1, 5, 11, 55]\n",
        "56: [1, 2, 4, 7, 8, 14, 28, 56]\n",
        "57: [1, 3, 19, 57]\n",
        "58: [1, 2, 29, 58]\n",
        "59: [1, 59]\n",
        "60: [1, 2, 3, 4, 5, 6, 10, 12, 15, 20, 30, 60]\n",
        "61: [1, 61]\n",
        "62: [1, 2, 31, 62]\n",
        "63: [1, 3, 7, 9, 21, 63]\n",
        "64: [1, 2, 4, 8, 16, 32, 64]\n",
        "65: [1, 5, 13, 65]\n",
        "66: [1, 2, 3, 6, 11, 22, 33, 66]\n",
        "67: [1, 67]\n",
        "68: [1, 2, 4, 17, 34, 68]\n",
        "69: [1, 3, 23, 69]\n",
        "70: [1, 2, 5, 7, 10, 14, 35, 70]\n",
        "71: [1, 71]\n",
        "72: [1, 2, 3, 4, 6, 8, 9, 12, 18, 24, 36, 72]\n",
        "73: [1, 73]\n",
        "74: [1, 2, 37, 74]\n",
        "75: [1, 3, 5, 15, 25, 75]\n",
        "76: [1, 2, 4, 19, 38, 76]\n",
        "77: [1, 7, 11, 77]\n",
        "78: [1, 2, 3, 6, 13, 26, 39, 78]\n",
        "79: [1, 79]\n",
        "80: [1, 2, 4, 5, 8, 10, 16, 20, 40, 80]\n",
        "81: [1, 3, 9, 27, 81]\n",
        "82: [1, 2, 41, 82]\n",
        "83: [1, 83]\n",
        "84: [1, 2, 3, 4, 6, 7, 12, 14, 21, 28, 42, 84]\n",
        "85: [1, 5, 17, 85]\n",
        "86: [1, 2, 43, 86]\n",
        "87: [1, 3, 29, 87]\n",
        "88: [1, 2, 4, 8, 11, 22, 44, 88]\n",
        "89: [1, 89]\n",
        "90: [1, 2, 3, 5, 6, 9, 10, 15, 18, 30, 45, 90]\n",
        "91: [1, 7, 13, 91]\n",
        "92: [1, 2, 4, 23, 46, 92]\n",
        "93: [1, 3, 31, 93]\n",
        "94: [1, 2, 47, 94]\n",
        "95: [1, 5, 19, 95]\n",
        "96: [1, 2, 3, 4, 6, 8, 12, 16, 24, 32, 48, 96]\n",
        "97: [1, 97]\n",
        "98: [1, 2, 7, 14, 49, 98]\n",
        "99: [1, 3, 9, 11, 33, 99]\n",
        "100: [1, 2, 4, 5, 10, 20, 25, 50, 100]\n"
       ]
      }
     ],
     "prompt_number": 44
    },
    {
     "cell_type": "code",
     "collapsed": false,
     "input": [
      "1%1"
     ],
     "language": "python",
     "metadata": {},
     "outputs": [
      {
       "metadata": {},
       "output_type": "pyout",
       "prompt_number": 26,
       "text": [
        "0"
       ]
      }
     ],
     "prompt_number": 26
    },
    {
     "cell_type": "code",
     "collapsed": false,
     "input": [],
     "language": "python",
     "metadata": {},
     "outputs": []
    }
   ],
   "metadata": {}
  }
 ]
}